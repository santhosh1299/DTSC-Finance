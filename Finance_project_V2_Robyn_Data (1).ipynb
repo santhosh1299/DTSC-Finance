{
 "cells": [
  {
   "cell_type": "markdown",
   "id": "KX99zyw3UqXw",
   "metadata": {
    "id": "KX99zyw3UqXw"
   },
   "source": [
    "Index (Delete/re-word at last)\n",
    "\n",
    "1. Data Pre-processing\n",
    "    1. Select only monetary columns\n",
    "    2. Handle nulls\n",
    "2. Data Exploration\n",
    "    1. Data correlation and drop the unrelated rows\n",
    "    2. Range of each column\n",
    "3. Modelling\n",
    "    1. Order by date column and drop it\n",
    "    2. Train_test split by taking initial few weeks\n",
    "    3. Train the model\n",
    "    4. Testing\n",
    "4. Conclusion\n",
    "    1. Conclusion\n",
    "    2. Next steps recommendation (consider seasonality, holidays, impression & views, etc)"
   ]
  },
  {
   "cell_type": "code",
   "execution_count": 1,
   "id": "137663db",
   "metadata": {
    "id": "137663db"
   },
   "outputs": [],
   "source": [
    "#Import libraries\n",
    "\n",
    "import pandas as pd\n",
    "import matplotlib.pyplot as plt\n",
    "import numpy as np\n",
    "import seaborn as sns\n",
    "import statsmodels.api as sm\n",
    "from sklearn.metrics import r2_score"
   ]
  },
  {
   "cell_type": "markdown",
   "id": "HHf92ilbGJQN",
   "metadata": {
    "id": "HHf92ilbGJQN"
   },
   "source": [
    "# 1. Data Pre-processing"
   ]
  },
  {
   "cell_type": "markdown",
   "id": "XTAnwoLvFg66",
   "metadata": {
    "id": "XTAnwoLvFg66"
   },
   "source": [
    "Dataset Source: [Robyn](https://github.com/facebookexperimental/Robyn)\n",
    "\n",
    "The dataset consists of 208 weeks of revenue having.\n",
    "\n",
    "1. 5 media spend channels: tv_S, ooh_S, print_S, facebook_S, search_S\n",
    "2. 2 media channels that have also the exposure information (Impression, Clicks): facebook_I, search_clicks_P\n",
    "3. Organic media without spend: newsletter\n",
    "4. Control variables: events, holidays, competitor sales (competitor_sales_B)"
   ]
  },
  {
   "cell_type": "code",
   "execution_count": 2,
   "id": "ae88c1d2",
   "metadata": {
    "colab": {
     "base_uri": "https://localhost:8080/",
     "height": 310
    },
    "id": "ae88c1d2",
    "outputId": "f955c023-1d7d-429c-ac7b-33b3e32689a8"
   },
   "outputs": [
    {
     "data": {
      "text/html": [
       "<div>\n",
       "<style scoped>\n",
       "    .dataframe tbody tr th:only-of-type {\n",
       "        vertical-align: middle;\n",
       "    }\n",
       "\n",
       "    .dataframe tbody tr th {\n",
       "        vertical-align: top;\n",
       "    }\n",
       "\n",
       "    .dataframe thead th {\n",
       "        text-align: right;\n",
       "    }\n",
       "</style>\n",
       "<table border=\"1\" class=\"dataframe\">\n",
       "  <thead>\n",
       "    <tr style=\"text-align: right;\">\n",
       "      <th></th>\n",
       "      <th>Unnamed: 0</th>\n",
       "      <th>DATE</th>\n",
       "      <th>revenue</th>\n",
       "      <th>tv_S</th>\n",
       "      <th>ooh_S</th>\n",
       "      <th>print_S</th>\n",
       "      <th>facebook_I</th>\n",
       "      <th>search_clicks_P</th>\n",
       "      <th>search_S</th>\n",
       "      <th>competitor_sales_B</th>\n",
       "      <th>facebook_S</th>\n",
       "      <th>events</th>\n",
       "      <th>newsletter</th>\n",
       "    </tr>\n",
       "  </thead>\n",
       "  <tbody>\n",
       "    <tr>\n",
       "      <th>125</th>\n",
       "      <td>126</td>\n",
       "      <td>2018-04-16</td>\n",
       "      <td>9.500150e+05</td>\n",
       "      <td>0.0</td>\n",
       "      <td>0</td>\n",
       "      <td>0.000000</td>\n",
       "      <td>2.101131e+07</td>\n",
       "      <td>50425.565260</td>\n",
       "      <td>37300</td>\n",
       "      <td>3167512</td>\n",
       "      <td>63397.814352</td>\n",
       "      <td>na</td>\n",
       "      <td>21616.000000</td>\n",
       "    </tr>\n",
       "    <tr>\n",
       "      <th>61</th>\n",
       "      <td>62</td>\n",
       "      <td>2017-01-23</td>\n",
       "      <td>2.179918e+06</td>\n",
       "      <td>0.0</td>\n",
       "      <td>0</td>\n",
       "      <td>80857.333333</td>\n",
       "      <td>8.675806e+07</td>\n",
       "      <td>61384.373539</td>\n",
       "      <td>52500</td>\n",
       "      <td>6998027</td>\n",
       "      <td>195073.842081</td>\n",
       "      <td>na</td>\n",
       "      <td>13998.000000</td>\n",
       "    </tr>\n",
       "    <tr>\n",
       "      <th>49</th>\n",
       "      <td>50</td>\n",
       "      <td>2016-10-31</td>\n",
       "      <td>2.974772e+06</td>\n",
       "      <td>704960.9</td>\n",
       "      <td>0</td>\n",
       "      <td>0.000000</td>\n",
       "      <td>7.176559e+07</td>\n",
       "      <td>34659.923981</td>\n",
       "      <td>36700</td>\n",
       "      <td>8937615</td>\n",
       "      <td>192222.857397</td>\n",
       "      <td>na</td>\n",
       "      <td>13989.000000</td>\n",
       "    </tr>\n",
       "    <tr>\n",
       "      <th>0</th>\n",
       "      <td>1</td>\n",
       "      <td>2015-11-23</td>\n",
       "      <td>2.754372e+06</td>\n",
       "      <td>167687.6</td>\n",
       "      <td>0</td>\n",
       "      <td>95463.666667</td>\n",
       "      <td>7.290385e+07</td>\n",
       "      <td>0.000000</td>\n",
       "      <td>0</td>\n",
       "      <td>8125009</td>\n",
       "      <td>228213.987444</td>\n",
       "      <td>na</td>\n",
       "      <td>19401.653846</td>\n",
       "    </tr>\n",
       "    <tr>\n",
       "      <th>50</th>\n",
       "      <td>51</td>\n",
       "      <td>2016-11-07</td>\n",
       "      <td>2.826128e+06</td>\n",
       "      <td>0.0</td>\n",
       "      <td>267379</td>\n",
       "      <td>86578.666667</td>\n",
       "      <td>6.403331e+07</td>\n",
       "      <td>42223.992695</td>\n",
       "      <td>31200</td>\n",
       "      <td>8832206</td>\n",
       "      <td>208648.339566</td>\n",
       "      <td>na</td>\n",
       "      <td>29426.000000</td>\n",
       "    </tr>\n",
       "  </tbody>\n",
       "</table>\n",
       "</div>"
      ],
      "text/plain": [
       "     Unnamed: 0        DATE       revenue      tv_S   ooh_S       print_S  \\\n",
       "125         126  2018-04-16  9.500150e+05       0.0       0      0.000000   \n",
       "61           62  2017-01-23  2.179918e+06       0.0       0  80857.333333   \n",
       "49           50  2016-10-31  2.974772e+06  704960.9       0      0.000000   \n",
       "0             1  2015-11-23  2.754372e+06  167687.6       0  95463.666667   \n",
       "50           51  2016-11-07  2.826128e+06       0.0  267379  86578.666667   \n",
       "\n",
       "       facebook_I  search_clicks_P  search_S  competitor_sales_B  \\\n",
       "125  2.101131e+07     50425.565260     37300             3167512   \n",
       "61   8.675806e+07     61384.373539     52500             6998027   \n",
       "49   7.176559e+07     34659.923981     36700             8937615   \n",
       "0    7.290385e+07         0.000000         0             8125009   \n",
       "50   6.403331e+07     42223.992695     31200             8832206   \n",
       "\n",
       "        facebook_S events    newsletter  \n",
       "125   63397.814352     na  21616.000000  \n",
       "61   195073.842081     na  13998.000000  \n",
       "49   192222.857397     na  13989.000000  \n",
       "0    228213.987444     na  19401.653846  \n",
       "50   208648.339566     na  29426.000000  "
      ]
     },
     "execution_count": 2,
     "metadata": {},
     "output_type": "execute_result"
    }
   ],
   "source": [
    "#Read the csv file\n",
    "#df=pd.read_csv(\"/content/drive/MyDrive/01. CUB Courses/01. DTSC 5301- Data Science as a Field /01. Project/00 Data/Robyn_dt_simulated_weekly.csv\")\n",
    "df=pd.read_csv(\"Robyn_dt_simulated_weekly.csv\")\n",
    "df.sample(5)"
   ]
  },
  {
   "cell_type": "code",
   "execution_count": 4,
   "id": "J7K2ynOxHD-f",
   "metadata": {
    "id": "J7K2ynOxHD-f"
   },
   "outputs": [],
   "source": [
    "# Lowering the column headings to have a consitent format\n",
    "df.columns= df.columns.str.lower()\n",
    "df_selected= df[['date','tv_s','ooh_s','print_s','search_s','facebook_s','revenue']]\n",
    "df_selected.head()"
   ]
  },
  {
   "cell_type": "markdown",
   "id": "Iq5iSjjUGeY7",
   "metadata": {
    "id": "Iq5iSjjUGeY7"
   },
   "source": [
    "Our goal of is to only estimate media spends to achieve the revenue goal, so select only the required columns"
   ]
  },
  {
   "cell_type": "markdown",
   "id": "CLPIgGybIqWI",
   "metadata": {
    "id": "CLPIgGybIqWI"
   },
   "source": [
    "The dataset does not have any null entires"
   ]
  },
  {
   "cell_type": "markdown",
   "id": "MlYaVcTlI9Hr",
   "metadata": {
    "id": "MlYaVcTlI9Hr"
   },
   "source": [
    "# 02. Data Exploration (WIP)"
   ]
  },
  {
   "cell_type": "code",
   "execution_count": 7,
   "id": "8lru7SwZEMH6",
   "metadata": {
    "colab": {
     "base_uri": "https://localhost:8080/",
     "height": 574
    },
    "id": "8lru7SwZEMH6",
    "outputId": "bd70090e-7510-42ec-eac8-55c159d5ad1a"
   },
   "outputs": [
    {
     "data": {
      "text/plain": [
       "<AxesSubplot:>"
      ]
     },
     "execution_count": 7,
     "metadata": {},
     "output_type": "execute_result"
    },
    {
     "data": {
      "image/png": "[encoded data removed]",
      "text/plain": [
       "<Figure size 432x288 with 2 Axes>"
      ]
     },
     "metadata": {
      "needs_background": "light"
     },
     "output_type": "display_data"
    }
   ],
   "source": [
    "#Check the relationship (correlation) between the columns\n",
    "\n",
    "sns.heatmap(df_selected.corr(), annot=True, cmap='Greens')"
   ]
  },
  {
   "cell_type": "markdown",
   "id": "LyZRc_NTRRek",
   "metadata": {
    "id": "LyZRc_NTRRek"
   },
   "source": [
    "* Spends in TV and Search channels have the high impact (correlation) on revenue\n",
    "* Out Of Home (OOH) advertising spends have the lowest impact on the revenue"
   ]
  },
  {
   "cell_type": "markdown",
   "id": "E-GBabypesaI",
   "metadata": {
    "id": "E-GBabypesaI"
   },
   "source": [
    "# 3. Modelling"
   ]
  },
  {
   "cell_type": "code",
   "execution_count": 13,
   "id": "78vwIX5Km7Rt",
   "metadata": {
    "id": "78vwIX5Km7Rt"
   },
   "outputs": [
    {
     "data": {
      "text/html": [
       "<div>\n",
       "<style scoped>\n",
       "    .dataframe tbody tr th:only-of-type {\n",
       "        vertical-align: middle;\n",
       "    }\n",
       "\n",
       "    .dataframe tbody tr th {\n",
       "        vertical-align: top;\n",
       "    }\n",
       "\n",
       "    .dataframe thead th {\n",
       "        text-align: right;\n",
       "    }\n",
       "</style>\n",
       "<table border=\"1\" class=\"dataframe\">\n",
       "  <thead>\n",
       "    <tr style=\"text-align: right;\">\n",
       "      <th></th>\n",
       "      <th>date</th>\n",
       "      <th>tv_s</th>\n",
       "      <th>ooh_s</th>\n",
       "      <th>print_s</th>\n",
       "      <th>search_s</th>\n",
       "      <th>facebook_s</th>\n",
       "      <th>revenue</th>\n",
       "    </tr>\n",
       "  </thead>\n",
       "  <tbody>\n",
       "    <tr>\n",
       "      <th>0</th>\n",
       "      <td>2015-11-23</td>\n",
       "      <td>167687.6</td>\n",
       "      <td>0</td>\n",
       "      <td>95463.666667</td>\n",
       "      <td>0</td>\n",
       "      <td>228213.987444</td>\n",
       "      <td>2.754372e+06</td>\n",
       "    </tr>\n",
       "    <tr>\n",
       "      <th>1</th>\n",
       "      <td>2015-11-30</td>\n",
       "      <td>214600.9</td>\n",
       "      <td>0</td>\n",
       "      <td>0.000000</td>\n",
       "      <td>31000</td>\n",
       "      <td>34258.573511</td>\n",
       "      <td>2.584277e+06</td>\n",
       "    </tr>\n",
       "    <tr>\n",
       "      <th>2</th>\n",
       "      <td>2015-12-07</td>\n",
       "      <td>0.0</td>\n",
       "      <td>248022</td>\n",
       "      <td>3404.000000</td>\n",
       "      <td>28400</td>\n",
       "      <td>127691.261335</td>\n",
       "      <td>2.547387e+06</td>\n",
       "    </tr>\n",
       "    <tr>\n",
       "      <th>3</th>\n",
       "      <td>2015-12-14</td>\n",
       "      <td>625877.3</td>\n",
       "      <td>0</td>\n",
       "      <td>132600.000000</td>\n",
       "      <td>31900</td>\n",
       "      <td>84014.720306</td>\n",
       "      <td>2.875220e+06</td>\n",
       "    </tr>\n",
       "    <tr>\n",
       "      <th>4</th>\n",
       "      <td>2015-12-21</td>\n",
       "      <td>0.0</td>\n",
       "      <td>520005</td>\n",
       "      <td>0.000000</td>\n",
       "      <td>27100</td>\n",
       "      <td>20687.478156</td>\n",
       "      <td>2.215953e+06</td>\n",
       "    </tr>\n",
       "    <tr>\n",
       "      <th>...</th>\n",
       "      <td>...</td>\n",
       "      <td>...</td>\n",
       "      <td>...</td>\n",
       "      <td>...</td>\n",
       "      <td>...</td>\n",
       "      <td>...</td>\n",
       "      <td>...</td>\n",
       "    </tr>\n",
       "    <tr>\n",
       "      <th>203</th>\n",
       "      <td>2019-10-14</td>\n",
       "      <td>0.0</td>\n",
       "      <td>60433</td>\n",
       "      <td>153723.666667</td>\n",
       "      <td>112100</td>\n",
       "      <td>0.000000</td>\n",
       "      <td>2.456240e+06</td>\n",
       "    </tr>\n",
       "    <tr>\n",
       "      <th>204</th>\n",
       "      <td>2019-10-21</td>\n",
       "      <td>154917.6</td>\n",
       "      <td>0</td>\n",
       "      <td>0.000000</td>\n",
       "      <td>103700</td>\n",
       "      <td>133624.575524</td>\n",
       "      <td>2.182825e+06</td>\n",
       "    </tr>\n",
       "    <tr>\n",
       "      <th>205</th>\n",
       "      <td>2019-10-28</td>\n",
       "      <td>21982.5</td>\n",
       "      <td>14094</td>\n",
       "      <td>17476.000000</td>\n",
       "      <td>114700</td>\n",
       "      <td>0.000000</td>\n",
       "      <td>2.377707e+06</td>\n",
       "    </tr>\n",
       "    <tr>\n",
       "      <th>206</th>\n",
       "      <td>2019-11-04</td>\n",
       "      <td>22453.0</td>\n",
       "      <td>0</td>\n",
       "      <td>24051.333333</td>\n",
       "      <td>134100</td>\n",
       "      <td>0.000000</td>\n",
       "      <td>2.732825e+06</td>\n",
       "    </tr>\n",
       "    <tr>\n",
       "      <th>207</th>\n",
       "      <td>2019-11-11</td>\n",
       "      <td>0.0</td>\n",
       "      <td>0</td>\n",
       "      <td>0.000000</td>\n",
       "      <td>0</td>\n",
       "      <td>366190.759370</td>\n",
       "      <td>2.767788e+06</td>\n",
       "    </tr>\n",
       "  </tbody>\n",
       "</table>\n",
       "<p>208 rows × 7 columns</p>\n",
       "</div>"
      ],
      "text/plain": [
       "           date      tv_s   ooh_s        print_s  search_s     facebook_s  \\\n",
       "0    2015-11-23  167687.6       0   95463.666667         0  228213.987444   \n",
       "1    2015-11-30  214600.9       0       0.000000     31000   34258.573511   \n",
       "2    2015-12-07       0.0  248022    3404.000000     28400  127691.261335   \n",
       "3    2015-12-14  625877.3       0  132600.000000     31900   84014.720306   \n",
       "4    2015-12-21       0.0  520005       0.000000     27100   20687.478156   \n",
       "..          ...       ...     ...            ...       ...            ...   \n",
       "203  2019-10-14       0.0   60433  153723.666667    112100       0.000000   \n",
       "204  2019-10-21  154917.6       0       0.000000    103700  133624.575524   \n",
       "205  2019-10-28   21982.5   14094   17476.000000    114700       0.000000   \n",
       "206  2019-11-04   22453.0       0   24051.333333    134100       0.000000   \n",
       "207  2019-11-11       0.0       0       0.000000         0  366190.759370   \n",
       "\n",
       "          revenue  \n",
       "0    2.754372e+06  \n",
       "1    2.584277e+06  \n",
       "2    2.547387e+06  \n",
       "3    2.875220e+06  \n",
       "4    2.215953e+06  \n",
       "..            ...  \n",
       "203  2.456240e+06  \n",
       "204  2.182825e+06  \n",
       "205  2.377707e+06  \n",
       "206  2.732825e+06  \n",
       "207  2.767788e+06  \n",
       "\n",
       "[208 rows x 7 columns]"
      ]
     },
     "execution_count": 13,
     "metadata": {},
     "output_type": "execute_result"
    }
   ],
   "source": [
    "# Next steps recommendation\n",
    "\n",
    "df_selected"
   ]
  },
  {
   "cell_type": "code",
   "execution_count": 12,
   "id": "N974qa6km_MD",
   "metadata": {
    "id": "N974qa6km_MD"
   },
   "outputs": [
    {
     "name": "stdout",
     "output_type": "stream",
     "text": [
      "Mean Squared Error (MSE): 288426479242.19617\n",
      "R-squared (R2): 0.3123289781480262\n"
     ]
    }
   ],
   "source": [
    "import pandas as pd\n",
    "from sklearn.model_selection import train_test_split\n",
    "from sklearn.ensemble import RandomForestRegressor\n",
    "from sklearn.metrics import mean_squared_error, r2_score\n",
    "\n",
    "# Split the data into train and test sets\n",
    "X = df_selected[['tv_s', 'ooh_s', 'print_s', 'search_s', 'facebook_s']]\n",
    "y = df_selected['revenue']\n",
    "X_train, X_test, y_train, y_test = train_test_split(X, y, test_size=0.2, random_state=42)\n",
    "\n",
    "# Create a Random Forest Regressor model\n",
    "rf_model = RandomForestRegressor(n_estimators=100, random_state=42)\n",
    "\n",
    "# Fit the model to the training data\n",
    "rf_model.fit(X_train, y_train)\n",
    "\n",
    "# Make predictions on the test data\n",
    "y_pred = rf_model.predict(X_test)\n",
    "\n",
    "# Calculate and print metrics\n",
    "mse = mean_squared_error(y_test, y_pred)\n",
    "r2 = r2_score(y_test, y_pred)\n",
    "\n",
    "print(f\"Mean Squared Error (MSE): {mse}\")\n",
    "print(f\"R-squared (R2): {r2}\")\n"
   ]
  },
  {
   "cell_type": "code",
   "execution_count": null,
   "id": "76aa4c40",
   "metadata": {},
   "outputs": [],
   "source": [
    "\n"
   ]
  },
  {
   "cell_type": "markdown",
   "id": "B_2vc7aEm_q7",
   "metadata": {
    "id": "B_2vc7aEm_q7"
   },
   "source": [
    "# Pending tasks\n",
    "\n",
    "* The model's accuracy (R2) is poor, improve it\n",
    "  * Try normalization?\n",
    "  * Try different regression technique?\n",
    "  * Do more feature engineering?\n",
    "* Convert it as a report with detailed explanation of the following:\n",
    "  * Problem statement trying to answer?\n",
    "  * Add possible source of bias\n",
    "  * Data source and description of the columns\n",
    "  * Add more visualizations (either in the data exploration part or as result comparisions)\n",
    "  * Complete the conclusion\n",
    "* Check the data, code and report in github\n",
    "  * Have a readme file explaining how to run the code\n",
    "* Publish the report in github"
   ]
  },
  {
   "cell_type": "markdown",
   "id": "9Ji5aHqepyPR",
   "metadata": {
    "id": "9Ji5aHqepyPR"
   },
   "source": [
    "# Personal To-do (Do if time permits, not requred for this project though)\n",
    "\n",
    "* Leran what is multiple regression and the math behind it.\n",
    "* Learn how to interpret the regression equation result (for example, which input variable influence how much the target variable)\n",
    "* Learn how to evaluate a regression model (r2 score, MSE, RMSE, MAE? When to use what)\n"
   ]
  }
 ],
 "metadata": {
  "colab": {
   "provenance": []
  },
  "kernelspec": {
   "display_name": "Python 3 (ipykernel)",
   "language": "python",
   "name": "python3"
  },
  "language_info": {
   "codemirror_mode": {
    "name": "ipython",
    "version": 3
   },
   "file_extension": ".py",
   "mimetype": "text/x-python",
   "name": "python",
   "nbconvert_exporter": "python",
   "pygments_lexer": "ipython3",
   "version": "3.7.0"
  }
 },
 "nbformat": 4,
 "nbformat_minor": 5
}
