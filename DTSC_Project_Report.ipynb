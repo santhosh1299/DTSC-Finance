{
 "cells": [
  {
   "cell_type": "markdown",
   "id": "WiSXdNeR38Py",
   "metadata": {
    "id": "WiSXdNeR38Py"
   },
   "source": [
    "# **Final Project Report**\n",
    "\n",
    "**Jupyter Notebook** : https://github.com/santhosh1299/DTSC-Finance/blob/main/DTSC_Project_Report.ipynb\n",
    "\n",
    "**Analysis Domain:** Finance\n",
    "\n",
    "**Collaborators:**\n",
    "* Niranjan Cholendiran\n",
    "* Santhosh Pattamudu Manoharan\n",
    "* Saaijeesh Sottalu Naresh\n",
    "* Makayla Johnson\n",
    "\n"
   ]
  },
  {
   "cell_type": "markdown",
   "id": "xdhaaxY1AzRt",
   "metadata": {
    "id": "xdhaaxY1AzRt"
   },
   "source": [
    "# **Introduction**\n",
    "\n",
    "In today's highly competitive business landscape, companies face the ongoing challenge of strategically allocating their marketing budgets across various advertising channels, to drive sales and achieve a substantial return on investment. This report delves into the heart of this challenge and presents a comprehensive solution leveraging the power of \"Market Mix Modeling\" (MMM)."
   ]
  },
  {
   "cell_type": "markdown",
   "id": "nBbn-V3TBAvo",
   "metadata": {
    "id": "nBbn-V3TBAvo"
   },
   "source": [
    "# **Data Source**\n",
    "\n",
    "For this project, we have used a sample dataset provided by Robyn, an open-source MMM package developed by Meta Marketing Science. This dataset comprises 208 weeks' worth of sales data, offering a deep insight into the dynamics of an organization's revenue generation.\n",
    "\n",
    "Data Source: https://github.com/facebookexperimental/Robyn\n",
    "\n",
    "This dataset consists:\n",
    "\n",
    "1. The allocation of financial resources across five advertising channels: TV, Print, Out-Of-Home advertising, Facebook, and Search.\n",
    "2. Metrics related to media exposure, encompassing impressions and clicks, for two of the most influential media channels: Facebook and Search.\n",
    "3. The role of organic media without monetary investment, such as newsletters.\n",
    "4. External factors influencing sales, including events, holidays, and the performance of competitors."
   ]
  },
  {
   "cell_type": "markdown",
   "id": "8a7tMLh3Brfp",
   "metadata": {
    "id": "8a7tMLh3Brfp"
   },
   "source": [
    "# **Problem Statement**\n",
    "\n",
    "What is the optimal allocation ratio for distributing advertising funds among diverse media channels to achieve the objective of maximizing future sales?"
   ]
  },
  {
   "cell_type": "markdown",
   "id": "7fsqLyswCoeI",
   "metadata": {
    "id": "7fsqLyswCoeI"
   },
   "source": [
    "# **Solution**\n",
    "\n",
    "To solve this problem, we have briefly taken the following approach to solve this problem:\n",
    "\n",
    "1. Identified the key advertising channels that exerts the most significant influence on sales.\n",
    "2. Constructed a ridge regression model using the historical media spending data in these influential channels alongside the corresponding sales outcomes.\n",
    "3. Utilized the insights extracted from the model's $\\beta$ coefficients to identify the most advantageous budget allocation strategy.\n",
    "\n",
    "In the sections that follow, we provide a detailed account of our approach, methodology, findings, and recommendations."
   ]
  },
  {
   "cell_type": "code",
   "execution_count": 16,
   "id": "137663db",
   "metadata": {
    "id": "137663db"
   },
   "outputs": [],
   "source": [
    "#import required libraries\n",
    "\n",
    "import pandas as pd\n",
    "import matplotlib.pyplot as plt\n",
    "import numpy as np\n",
    "import seaborn as sns\n",
    "import statsmodels.api as sm\n",
    "from sklearn.metrics import r2_score\n",
    "from sklearn import preprocessing\n",
    "from sklearn.linear_model import Ridge\n",
    "from sklearn.metrics import mean_squared_error, r2_score"
   ]
  },
  {
   "cell_type": "markdown",
   "id": "HHf92ilbGJQN",
   "metadata": {
    "id": "HHf92ilbGJQN"
   },
   "source": [
    "# 1. Data Pre-processing"
   ]
  },
  {
   "cell_type": "code",
   "execution_count": 17,
   "id": "ae88c1d2",
   "metadata": {
    "colab": {
     "base_uri": "https://localhost:8080/",
     "height": 310
    },
    "id": "ae88c1d2",
    "outputId": "c654387b-1bc6-47f3-8e09-e523470ef8db"
   },
   "outputs": [
    {
     "data": {
      "text/html": [
       "<div>\n",
       "<style scoped>\n",
       "    .dataframe tbody tr th:only-of-type {\n",
       "        vertical-align: middle;\n",
       "    }\n",
       "\n",
       "    .dataframe tbody tr th {\n",
       "        vertical-align: top;\n",
       "    }\n",
       "\n",
       "    .dataframe thead th {\n",
       "        text-align: right;\n",
       "    }\n",
       "</style>\n",
       "<table border=\"1\" class=\"dataframe\">\n",
       "  <thead>\n",
       "    <tr style=\"text-align: right;\">\n",
       "      <th></th>\n",
       "      <th>Unnamed: 0</th>\n",
       "      <th>DATE</th>\n",
       "      <th>revenue</th>\n",
       "      <th>tv_S</th>\n",
       "      <th>ooh_S</th>\n",
       "      <th>print_S</th>\n",
       "      <th>facebook_I</th>\n",
       "      <th>search_clicks_P</th>\n",
       "      <th>search_S</th>\n",
       "      <th>competitor_sales_B</th>\n",
       "      <th>facebook_S</th>\n",
       "      <th>events</th>\n",
       "      <th>newsletter</th>\n",
       "    </tr>\n",
       "  </thead>\n",
       "  <tbody>\n",
       "    <tr>\n",
       "      <th>4</th>\n",
       "      <td>5</td>\n",
       "      <td>2015-12-21</td>\n",
       "      <td>2.215953e+06</td>\n",
       "      <td>0.0</td>\n",
       "      <td>520005</td>\n",
       "      <td>0.000000</td>\n",
       "      <td>8.802269e+06</td>\n",
       "      <td>28401.744069</td>\n",
       "      <td>27100</td>\n",
       "      <td>7105985</td>\n",
       "      <td>20687.478156</td>\n",
       "      <td>na</td>\n",
       "      <td>15478.000000</td>\n",
       "    </tr>\n",
       "    <tr>\n",
       "      <th>155</th>\n",
       "      <td>156</td>\n",
       "      <td>2018-11-12</td>\n",
       "      <td>2.666240e+06</td>\n",
       "      <td>430131.9</td>\n",
       "      <td>0</td>\n",
       "      <td>0.000000</td>\n",
       "      <td>1.170623e+08</td>\n",
       "      <td>0.000000</td>\n",
       "      <td>0</td>\n",
       "      <td>7958631</td>\n",
       "      <td>261854.245872</td>\n",
       "      <td>na</td>\n",
       "      <td>19401.653846</td>\n",
       "    </tr>\n",
       "    <tr>\n",
       "      <th>195</th>\n",
       "      <td>196</td>\n",
       "      <td>2019-08-19</td>\n",
       "      <td>1.397435e+06</td>\n",
       "      <td>0.0</td>\n",
       "      <td>0</td>\n",
       "      <td>24152.000000</td>\n",
       "      <td>9.831605e+07</td>\n",
       "      <td>0.000000</td>\n",
       "      <td>0</td>\n",
       "      <td>4520254</td>\n",
       "      <td>292347.534332</td>\n",
       "      <td>na</td>\n",
       "      <td>19401.653846</td>\n",
       "    </tr>\n",
       "    <tr>\n",
       "      <th>50</th>\n",
       "      <td>51</td>\n",
       "      <td>2016-11-07</td>\n",
       "      <td>2.826128e+06</td>\n",
       "      <td>0.0</td>\n",
       "      <td>267379</td>\n",
       "      <td>86578.666667</td>\n",
       "      <td>6.403331e+07</td>\n",
       "      <td>42223.992695</td>\n",
       "      <td>31200</td>\n",
       "      <td>8832206</td>\n",
       "      <td>208648.339566</td>\n",
       "      <td>na</td>\n",
       "      <td>29426.000000</td>\n",
       "    </tr>\n",
       "    <tr>\n",
       "      <th>141</th>\n",
       "      <td>142</td>\n",
       "      <td>2018-08-06</td>\n",
       "      <td>2.009478e+06</td>\n",
       "      <td>97811.2</td>\n",
       "      <td>173577</td>\n",
       "      <td>54001.000000</td>\n",
       "      <td>0.000000e+00</td>\n",
       "      <td>76885.476551</td>\n",
       "      <td>65800</td>\n",
       "      <td>6045317</td>\n",
       "      <td>0.000000</td>\n",
       "      <td>na</td>\n",
       "      <td>59318.000000</td>\n",
       "    </tr>\n",
       "  </tbody>\n",
       "</table>\n",
       "</div>"
      ],
      "text/plain": [
       "     Unnamed: 0        DATE       revenue      tv_S   ooh_S       print_S  \\\n",
       "4             5  2015-12-21  2.215953e+06       0.0  520005      0.000000   \n",
       "155         156  2018-11-12  2.666240e+06  430131.9       0      0.000000   \n",
       "195         196  2019-08-19  1.397435e+06       0.0       0  24152.000000   \n",
       "50           51  2016-11-07  2.826128e+06       0.0  267379  86578.666667   \n",
       "141         142  2018-08-06  2.009478e+06   97811.2  173577  54001.000000   \n",
       "\n",
       "       facebook_I  search_clicks_P  search_S  competitor_sales_B  \\\n",
       "4    8.802269e+06     28401.744069     27100             7105985   \n",
       "155  1.170623e+08         0.000000         0             7958631   \n",
       "195  9.831605e+07         0.000000         0             4520254   \n",
       "50   6.403331e+07     42223.992695     31200             8832206   \n",
       "141  0.000000e+00     76885.476551     65800             6045317   \n",
       "\n",
       "        facebook_S events    newsletter  \n",
       "4     20687.478156     na  15478.000000  \n",
       "155  261854.245872     na  19401.653846  \n",
       "195  292347.534332     na  19401.653846  \n",
       "50   208648.339566     na  29426.000000  \n",
       "141       0.000000     na  59318.000000  "
      ]
     },
     "execution_count": 17,
     "metadata": {},
     "output_type": "execute_result"
    }
   ],
   "source": [
    "#read the csv file\n",
    "df=pd.read_csv(\"Robyn_dt_simulated_weekly.csv\")\n",
    "df.sample(5)"
   ]
  },
  {
   "cell_type": "code",
   "execution_count": 18,
   "id": "J7K2ynOxHD-f",
   "metadata": {
    "id": "J7K2ynOxHD-f"
   },
   "outputs": [],
   "source": [
    "# lower the column headings to maintain a consitent format\n",
    "df.columns= df.columns.str.lower()"
   ]
  },
  {
   "cell_type": "markdown",
   "id": "6c1f2abe",
   "metadata": {},
   "source": [
    "# 2. Feature Selection\n",
    "\n",
    "Our objective is to only estimate media spends to achieve the revenue goal, so select only the media spend columns."
   ]
  },
  {
   "cell_type": "code",
   "execution_count": 9,
   "id": "3YyFpxDkEL9V",
   "metadata": {
    "colab": {
     "base_uri": "https://localhost:8080/",
     "height": 206
    },
    "id": "3YyFpxDkEL9V",
    "outputId": "a56ef34e-490e-4cf6-b6ad-508c1192bf47"
   },
   "outputs": [
    {
     "data": {
      "text/html": [
       "<div>\n",
       "<style scoped>\n",
       "    .dataframe tbody tr th:only-of-type {\n",
       "        vertical-align: middle;\n",
       "    }\n",
       "\n",
       "    .dataframe tbody tr th {\n",
       "        vertical-align: top;\n",
       "    }\n",
       "\n",
       "    .dataframe thead th {\n",
       "        text-align: right;\n",
       "    }\n",
       "</style>\n",
       "<table border=\"1\" class=\"dataframe\">\n",
       "  <thead>\n",
       "    <tr style=\"text-align: right;\">\n",
       "      <th></th>\n",
       "      <th>date</th>\n",
       "      <th>tv_s</th>\n",
       "      <th>ooh_s</th>\n",
       "      <th>print_s</th>\n",
       "      <th>search_s</th>\n",
       "      <th>facebook_s</th>\n",
       "      <th>revenue</th>\n",
       "    </tr>\n",
       "  </thead>\n",
       "  <tbody>\n",
       "    <tr>\n",
       "      <th>0</th>\n",
       "      <td>2015-11-23</td>\n",
       "      <td>167687.6</td>\n",
       "      <td>0</td>\n",
       "      <td>95463.666667</td>\n",
       "      <td>0</td>\n",
       "      <td>228213.987444</td>\n",
       "      <td>2.754372e+06</td>\n",
       "    </tr>\n",
       "    <tr>\n",
       "      <th>1</th>\n",
       "      <td>2015-11-30</td>\n",
       "      <td>214600.9</td>\n",
       "      <td>0</td>\n",
       "      <td>0.000000</td>\n",
       "      <td>31000</td>\n",
       "      <td>34258.573511</td>\n",
       "      <td>2.584277e+06</td>\n",
       "    </tr>\n",
       "    <tr>\n",
       "      <th>2</th>\n",
       "      <td>2015-12-07</td>\n",
       "      <td>0.0</td>\n",
       "      <td>248022</td>\n",
       "      <td>3404.000000</td>\n",
       "      <td>28400</td>\n",
       "      <td>127691.261335</td>\n",
       "      <td>2.547387e+06</td>\n",
       "    </tr>\n",
       "    <tr>\n",
       "      <th>3</th>\n",
       "      <td>2015-12-14</td>\n",
       "      <td>625877.3</td>\n",
       "      <td>0</td>\n",
       "      <td>132600.000000</td>\n",
       "      <td>31900</td>\n",
       "      <td>84014.720306</td>\n",
       "      <td>2.875220e+06</td>\n",
       "    </tr>\n",
       "    <tr>\n",
       "      <th>4</th>\n",
       "      <td>2015-12-21</td>\n",
       "      <td>0.0</td>\n",
       "      <td>520005</td>\n",
       "      <td>0.000000</td>\n",
       "      <td>27100</td>\n",
       "      <td>20687.478156</td>\n",
       "      <td>2.215953e+06</td>\n",
       "    </tr>\n",
       "  </tbody>\n",
       "</table>\n",
       "</div>"
      ],
      "text/plain": [
       "         date      tv_s   ooh_s        print_s  search_s     facebook_s  \\\n",
       "0  2015-11-23  167687.6       0   95463.666667         0  228213.987444   \n",
       "1  2015-11-30  214600.9       0       0.000000     31000   34258.573511   \n",
       "2  2015-12-07       0.0  248022    3404.000000     28400  127691.261335   \n",
       "3  2015-12-14  625877.3       0  132600.000000     31900   84014.720306   \n",
       "4  2015-12-21       0.0  520005       0.000000     27100   20687.478156   \n",
       "\n",
       "        revenue  \n",
       "0  2.754372e+06  \n",
       "1  2.584277e+06  \n",
       "2  2.547387e+06  \n",
       "3  2.875220e+06  \n",
       "4  2.215953e+06  "
      ]
     },
     "execution_count": 9,
     "metadata": {},
     "output_type": "execute_result"
    }
   ],
   "source": [
    "df_selected= df[['date','tv_s','ooh_s','print_s','search_s','facebook_s','revenue']]\n",
    "df_selected.head()"
   ]
  },
  {
   "cell_type": "code",
   "execution_count": 21,
   "id": "TFSISBAwIzjM",
   "metadata": {
    "colab": {
     "base_uri": "https://localhost:8080/"
    },
    "id": "TFSISBAwIzjM",
    "outputId": "6b3a0e52-e771-4db8-ad93-28086a546668"
   },
   "outputs": [
    {
     "data": {
      "text/plain": [
       "date          False\n",
       "tv_s          False\n",
       "ooh_s         False\n",
       "print_s       False\n",
       "search_s      False\n",
       "facebook_s    False\n",
       "revenue       False\n",
       "dtype: bool"
      ]
     },
     "execution_count": 21,
     "metadata": {},
     "output_type": "execute_result"
    }
   ],
   "source": [
    "# Check for null values in the features\n",
    "df_selected.isnull().any()"
   ]
  },
  {
   "cell_type": "markdown",
   "id": "CLPIgGybIqWI",
   "metadata": {
    "id": "CLPIgGybIqWI"
   },
   "source": [
    "The dataset does not have any null entires."
   ]
  },
  {
   "cell_type": "markdown",
   "id": "MlYaVcTlI9Hr",
   "metadata": {
    "id": "MlYaVcTlI9Hr"
   },
   "source": [
    "# 3. Data Exploration"
   ]
  },
  {
   "cell_type": "code",
   "execution_count": 32,
   "id": "00ca47e8",
   "metadata": {},
   "outputs": [
    {
     "data": {
      "image/png": "[encoded data removed]",
      "text/plain": [
       "<Figure size 720x288 with 2 Axes>"
      ]
     },
     "metadata": {
      "needs_background": "light"
     },
     "output_type": "display_data"
    }
   ],
   "source": [
    "#plot a Box and Whisker plot for all independent and dependent variables\n",
    "fig, (ax1, ax2) = plt.subplots(1, 2, figsize=(10, 4))\n",
    "#plot for independent varaibles\n",
    "df_plot= df_selected[['tv_s', 'ooh_s', 'print_s', 'search_s', 'facebook_s']]\n",
    "ax1.boxplot(df_plot.values, labels=df_plot.columns)\n",
    "ax1.set_xlabel('Independent Variables')\n",
    "ax1.set_ylabel('Values')\n",
    "ax1.grid(True)\n",
    "# plot for target varaible\n",
    "df_plot= df_selected[['revenue']]\n",
    "ax2.boxplot(df_plot.values, labels=df_plot.columns)\n",
    "ax2.set_xlabel('Target Variable')\n",
    "ax2.set_ylabel('Values')\n",
    "ax2.grid(True)\n",
    "fig.suptitle('Distribution Of The Data')\n",
    "plt.show()"
   ]
  },
  {
   "cell_type": "markdown",
   "id": "bd31bd35",
   "metadata": {},
   "source": [
    "\n",
    "* The company received a minimum of 672k sales without any marketing efforts and it went upto 3.8M, marking a remarkable 470% increase, following the implementation of marketing tactics.\n",
    "* The presence of numerous outliers in the independent variables may possibly  due to the influence of external factors.\n",
    "\n",
    "## Possible Bias in the Data\n",
    "\n",
    "**Contextual Bias:**\n",
    "\n",
    "The context in which ads are displayed or recommendations are made can introduce bias. For example, showing certain ads in specific geographic regions can result in biased outcomes.\n",
    "\n",
    "**Seasonal Bias:**\n",
    "\n",
    "Some markets or products may exhibit strong seasonality. If the data is preprocessed to remove these outliers it can result in inaccurate conclusions about the effectiveness of marketing efforts."
   ]
  },
  {
   "cell_type": "code",
   "execution_count": 13,
   "id": "8lru7SwZEMH6",
   "metadata": {
    "colab": {
     "base_uri": "https://localhost:8080/",
     "height": 574
    },
    "id": "8lru7SwZEMH6",
    "outputId": "724fe3fe-23cb-445d-c4a1-0b8578d84b0d"
   },
   "outputs": [
    {
     "data": {
      "image/png": "[encoded data removed]",
      "text/plain": [
       "<Figure size 432x288 with 2 Axes>"
      ]
     },
     "metadata": {
      "needs_background": "light"
     },
     "output_type": "display_data"
    }
   ],
   "source": [
    "# Check the relationship (correlation) between the columns\n",
    "sns.heatmap(df_selected.corr(), annot=True, cmap='Greens')\n",
    "plt.show()"
   ]
  },
  {
   "cell_type": "markdown",
   "id": "LyZRc_NTRRek",
   "metadata": {
    "id": "LyZRc_NTRRek"
   },
   "source": [
    "* Spends in TV and Search channels have high impact (correlation) on revenue.\n",
    "* Out Of Home (OOH) advertising spends have the lowest impact on the revenue."
   ]
  },
  {
   "cell_type": "code",
   "execution_count": 22,
   "id": "QnfdwyoCe0FC",
   "metadata": {
    "colab": {
     "base_uri": "https://localhost:8080/",
     "height": 206
    },
    "id": "QnfdwyoCe0FC",
    "outputId": "2d142919-29d7-446b-d93c-e270c57a6fa1"
   },
   "outputs": [
    {
     "data": {
      "text/html": [
       "<div>\n",
       "<style scoped>\n",
       "    .dataframe tbody tr th:only-of-type {\n",
       "        vertical-align: middle;\n",
       "    }\n",
       "\n",
       "    .dataframe tbody tr th {\n",
       "        vertical-align: top;\n",
       "    }\n",
       "\n",
       "    .dataframe thead th {\n",
       "        text-align: right;\n",
       "    }\n",
       "</style>\n",
       "<table border=\"1\" class=\"dataframe\">\n",
       "  <thead>\n",
       "    <tr style=\"text-align: right;\">\n",
       "      <th></th>\n",
       "      <th>date</th>\n",
       "      <th>tv_s</th>\n",
       "      <th>print_s</th>\n",
       "      <th>search_s</th>\n",
       "      <th>facebook_s</th>\n",
       "      <th>revenue</th>\n",
       "    </tr>\n",
       "  </thead>\n",
       "  <tbody>\n",
       "    <tr>\n",
       "      <th>0</th>\n",
       "      <td>2015-11-23</td>\n",
       "      <td>167687.6</td>\n",
       "      <td>95463.666667</td>\n",
       "      <td>0</td>\n",
       "      <td>228213.987444</td>\n",
       "      <td>2.754372e+06</td>\n",
       "    </tr>\n",
       "    <tr>\n",
       "      <th>1</th>\n",
       "      <td>2015-11-30</td>\n",
       "      <td>214600.9</td>\n",
       "      <td>0.000000</td>\n",
       "      <td>31000</td>\n",
       "      <td>34258.573511</td>\n",
       "      <td>2.584277e+06</td>\n",
       "    </tr>\n",
       "    <tr>\n",
       "      <th>2</th>\n",
       "      <td>2015-12-07</td>\n",
       "      <td>0.0</td>\n",
       "      <td>3404.000000</td>\n",
       "      <td>28400</td>\n",
       "      <td>127691.261335</td>\n",
       "      <td>2.547387e+06</td>\n",
       "    </tr>\n",
       "    <tr>\n",
       "      <th>3</th>\n",
       "      <td>2015-12-14</td>\n",
       "      <td>625877.3</td>\n",
       "      <td>132600.000000</td>\n",
       "      <td>31900</td>\n",
       "      <td>84014.720306</td>\n",
       "      <td>2.875220e+06</td>\n",
       "    </tr>\n",
       "    <tr>\n",
       "      <th>4</th>\n",
       "      <td>2015-12-21</td>\n",
       "      <td>0.0</td>\n",
       "      <td>0.000000</td>\n",
       "      <td>27100</td>\n",
       "      <td>20687.478156</td>\n",
       "      <td>2.215953e+06</td>\n",
       "    </tr>\n",
       "  </tbody>\n",
       "</table>\n",
       "</div>"
      ],
      "text/plain": [
       "         date      tv_s        print_s  search_s     facebook_s       revenue\n",
       "0  2015-11-23  167687.6   95463.666667         0  228213.987444  2.754372e+06\n",
       "1  2015-11-30  214600.9       0.000000     31000   34258.573511  2.584277e+06\n",
       "2  2015-12-07       0.0    3404.000000     28400  127691.261335  2.547387e+06\n",
       "3  2015-12-14  625877.3  132600.000000     31900   84014.720306  2.875220e+06\n",
       "4  2015-12-21       0.0       0.000000     27100   20687.478156  2.215953e+06"
      ]
     },
     "execution_count": 22,
     "metadata": {},
     "output_type": "execute_result"
    }
   ],
   "source": [
    "# Drop the low correated column\n",
    "df_corr= df_selected.drop(columns=['ooh_s'])\n",
    "df_corr.head()"
   ]
  },
  {
   "cell_type": "markdown",
   "id": "E-GBabypesaI",
   "metadata": {
    "id": "E-GBabypesaI"
   },
   "source": [
    "# 4. Modeling"
   ]
  },
  {
   "cell_type": "code",
   "execution_count": 11,
   "id": "e5K_LcAtEMK2",
   "metadata": {
    "id": "e5K_LcAtEMK2"
   },
   "outputs": [],
   "source": [
    "# Order the data by date\n",
    "df_corr.sort_values('date',inplace= True)"
   ]
  },
  {
   "cell_type": "code",
   "execution_count": 23,
   "id": "zaRxpk6Qf18w",
   "metadata": {
    "colab": {
     "base_uri": "https://localhost:8080/",
     "height": 206
    },
    "id": "zaRxpk6Qf18w",
    "outputId": "17c02248-5d53-48b6-bbb5-8467686cd3b4"
   },
   "outputs": [
    {
     "data": {
      "text/html": [
       "<div>\n",
       "<style scoped>\n",
       "    .dataframe tbody tr th:only-of-type {\n",
       "        vertical-align: middle;\n",
       "    }\n",
       "\n",
       "    .dataframe tbody tr th {\n",
       "        vertical-align: top;\n",
       "    }\n",
       "\n",
       "    .dataframe thead th {\n",
       "        text-align: right;\n",
       "    }\n",
       "</style>\n",
       "<table border=\"1\" class=\"dataframe\">\n",
       "  <thead>\n",
       "    <tr style=\"text-align: right;\">\n",
       "      <th></th>\n",
       "      <th>tv_s</th>\n",
       "      <th>print_s</th>\n",
       "      <th>search_s</th>\n",
       "      <th>facebook_s</th>\n",
       "      <th>revenue</th>\n",
       "    </tr>\n",
       "  </thead>\n",
       "  <tbody>\n",
       "    <tr>\n",
       "      <th>0</th>\n",
       "      <td>167687.6</td>\n",
       "      <td>95463.666667</td>\n",
       "      <td>0</td>\n",
       "      <td>228213.987444</td>\n",
       "      <td>2.754372e+06</td>\n",
       "    </tr>\n",
       "    <tr>\n",
       "      <th>1</th>\n",
       "      <td>214600.9</td>\n",
       "      <td>0.000000</td>\n",
       "      <td>31000</td>\n",
       "      <td>34258.573511</td>\n",
       "      <td>2.584277e+06</td>\n",
       "    </tr>\n",
       "    <tr>\n",
       "      <th>2</th>\n",
       "      <td>0.0</td>\n",
       "      <td>3404.000000</td>\n",
       "      <td>28400</td>\n",
       "      <td>127691.261335</td>\n",
       "      <td>2.547387e+06</td>\n",
       "    </tr>\n",
       "    <tr>\n",
       "      <th>3</th>\n",
       "      <td>625877.3</td>\n",
       "      <td>132600.000000</td>\n",
       "      <td>31900</td>\n",
       "      <td>84014.720306</td>\n",
       "      <td>2.875220e+06</td>\n",
       "    </tr>\n",
       "    <tr>\n",
       "      <th>4</th>\n",
       "      <td>0.0</td>\n",
       "      <td>0.000000</td>\n",
       "      <td>27100</td>\n",
       "      <td>20687.478156</td>\n",
       "      <td>2.215953e+06</td>\n",
       "    </tr>\n",
       "  </tbody>\n",
       "</table>\n",
       "</div>"
      ],
      "text/plain": [
       "       tv_s        print_s  search_s     facebook_s       revenue\n",
       "0  167687.6   95463.666667         0  228213.987444  2.754372e+06\n",
       "1  214600.9       0.000000     31000   34258.573511  2.584277e+06\n",
       "2       0.0    3404.000000     28400  127691.261335  2.547387e+06\n",
       "3  625877.3  132600.000000     31900   84014.720306  2.875220e+06\n",
       "4       0.0       0.000000     27100   20687.478156  2.215953e+06"
      ]
     },
     "execution_count": 23,
     "metadata": {},
     "output_type": "execute_result"
    }
   ],
   "source": [
    "# Drop the date column as it is not considered as an influencial variable in this analysis\n",
    "df_corr.drop(columns=['date'],inplace=True)\n",
    "df_corr.head()"
   ]
  },
  {
   "cell_type": "code",
   "execution_count": 24,
   "id": "DtvtmNjBov1B",
   "metadata": {
    "colab": {
     "base_uri": "https://localhost:8080/",
     "height": 300
    },
    "id": "DtvtmNjBov1B",
    "outputId": "c74baad0-f4ba-49ef-e922-f354ee346ebd"
   },
   "outputs": [
    {
     "data": {
      "text/html": [
       "<div>\n",
       "<style scoped>\n",
       "    .dataframe tbody tr th:only-of-type {\n",
       "        vertical-align: middle;\n",
       "    }\n",
       "\n",
       "    .dataframe tbody tr th {\n",
       "        vertical-align: top;\n",
       "    }\n",
       "\n",
       "    .dataframe thead th {\n",
       "        text-align: right;\n",
       "    }\n",
       "</style>\n",
       "<table border=\"1\" class=\"dataframe\">\n",
       "  <thead>\n",
       "    <tr style=\"text-align: right;\">\n",
       "      <th></th>\n",
       "      <th>tv_s</th>\n",
       "      <th>print_s</th>\n",
       "      <th>search_s</th>\n",
       "      <th>facebook_s</th>\n",
       "      <th>revenue</th>\n",
       "    </tr>\n",
       "  </thead>\n",
       "  <tbody>\n",
       "    <tr>\n",
       "      <th>count</th>\n",
       "      <td>208.000000</td>\n",
       "      <td>208.000000</td>\n",
       "      <td>208.000000</td>\n",
       "      <td>208.000000</td>\n",
       "      <td>208.000000</td>\n",
       "    </tr>\n",
       "    <tr>\n",
       "      <th>mean</th>\n",
       "      <td>0.093920</td>\n",
       "      <td>0.116803</td>\n",
       "      <td>0.330845</td>\n",
       "      <td>0.139325</td>\n",
       "      <td>0.364436</td>\n",
       "    </tr>\n",
       "    <tr>\n",
       "      <th>std</th>\n",
       "      <td>0.180696</td>\n",
       "      <td>0.203089</td>\n",
       "      <td>0.263004</td>\n",
       "      <td>0.205213</td>\n",
       "      <td>0.226994</td>\n",
       "    </tr>\n",
       "    <tr>\n",
       "      <th>min</th>\n",
       "      <td>0.000000</td>\n",
       "      <td>0.000000</td>\n",
       "      <td>0.000000</td>\n",
       "      <td>0.000000</td>\n",
       "      <td>0.000000</td>\n",
       "    </tr>\n",
       "    <tr>\n",
       "      <th>25%</th>\n",
       "      <td>0.000000</td>\n",
       "      <td>0.000000</td>\n",
       "      <td>0.131618</td>\n",
       "      <td>0.000000</td>\n",
       "      <td>0.156234</td>\n",
       "    </tr>\n",
       "    <tr>\n",
       "      <th>50%</th>\n",
       "      <td>0.000000</td>\n",
       "      <td>0.000000</td>\n",
       "      <td>0.268829</td>\n",
       "      <td>0.000000</td>\n",
       "      <td>0.381034</td>\n",
       "    </tr>\n",
       "    <tr>\n",
       "      <th>75%</th>\n",
       "      <td>0.116464</td>\n",
       "      <td>0.149357</td>\n",
       "      <td>0.477442</td>\n",
       "      <td>0.235255</td>\n",
       "      <td>0.540733</td>\n",
       "    </tr>\n",
       "    <tr>\n",
       "      <th>max</th>\n",
       "      <td>1.000000</td>\n",
       "      <td>1.000000</td>\n",
       "      <td>1.000000</td>\n",
       "      <td>1.000000</td>\n",
       "      <td>1.000000</td>\n",
       "    </tr>\n",
       "  </tbody>\n",
       "</table>\n",
       "</div>"
      ],
      "text/plain": [
       "             tv_s     print_s    search_s  facebook_s     revenue\n",
       "count  208.000000  208.000000  208.000000  208.000000  208.000000\n",
       "mean     0.093920    0.116803    0.330845    0.139325    0.364436\n",
       "std      0.180696    0.203089    0.263004    0.205213    0.226994\n",
       "min      0.000000    0.000000    0.000000    0.000000    0.000000\n",
       "25%      0.000000    0.000000    0.131618    0.000000    0.156234\n",
       "50%      0.000000    0.000000    0.268829    0.000000    0.381034\n",
       "75%      0.116464    0.149357    0.477442    0.235255    0.540733\n",
       "max      1.000000    1.000000    1.000000    1.000000    1.000000"
      ]
     },
     "execution_count": 24,
     "metadata": {},
     "output_type": "execute_result"
    }
   ],
   "source": [
    "# Normalize the values to ensure all features contribute equally\n",
    "scaler=preprocessing.MinMaxScaler()\n",
    "scaled=scaler.fit_transform(df_corr)\n",
    "df_norm=pd.DataFrame(scaled, columns= df_corr.columns)\n",
    "df_norm.describe()"
   ]
  },
  {
   "cell_type": "code",
   "execution_count": 26,
   "id": "_4lfEGBIgE8z",
   "metadata": {
    "colab": {
     "base_uri": "https://localhost:8080/"
    },
    "id": "_4lfEGBIgE8z",
    "outputId": "3bb1cce1-0597-4f69-b545-37c935230555"
   },
   "outputs": [
    {
     "name": "stdout",
     "output_type": "stream",
     "text": [
      "Training input shape: (144, 4)\n",
      "Training output shape: (144, 1)\n",
      "Testing input shape: (63, 4)\n",
      "Testing output shape: (63, 1)\n"
     ]
    }
   ],
   "source": [
    "# Split the train data as the initial 70% of the weeks and use the remaining 30% for testing\n",
    "total_rows= len(df_norm)\n",
    "num_train_rows= int(70*total_rows/100)\n",
    "input_col_num= df_norm.shape[1]-1\n",
    "df_train_x= df_norm.iloc[1:num_train_rows,:input_col_num]\n",
    "df_train_y= df_norm.iloc[1:num_train_rows,input_col_num:]\n",
    "df_test_x= df_norm.iloc[num_train_rows:,:input_col_num]\n",
    "df_test_y= df_norm.iloc[num_train_rows:,input_col_num:]\n",
    "print(\"Training input shape:\",df_train_x.shape)\n",
    "print(\"Training output shape:\",df_train_y.shape)\n",
    "print(\"Testing input shape:\",df_test_x.shape)\n",
    "print(\"Testing output shape:\",df_test_y.shape)"
   ]
  },
  {
   "cell_type": "code",
   "execution_count": 27,
   "id": "o761VjtWpf-U",
   "metadata": {
    "colab": {
     "base_uri": "https://localhost:8080/"
    },
    "id": "o761VjtWpf-U",
    "outputId": "cbb3bdee-9fb5-4094-bd62-34efb4f9affa"
   },
   "outputs": [
    {
     "name": "stdout",
     "output_type": "stream",
     "text": [
      "MSE: 0.02927144850834009\n",
      "R2 score: 0.41148076043421267\n"
     ]
    }
   ],
   "source": [
    "# Train the regression model and evaluate it\n",
    "ridge_model = Ridge(alpha=3.0)\n",
    "ridge_model.fit(df_train_x, df_train_y)\n",
    "y_pred= ridge_model.predict(df_test_x)\n",
    "mse_rr = mean_squared_error(df_test_y, y_pred)\n",
    "r2_rr = r2_score(df_test_y, y_pred)\n",
    "\n",
    "print(\"MSE:\",mse_rr)\n",
    "print(\"R2 score:\", r2_rr)"
   ]
  },
  {
   "cell_type": "code",
   "execution_count": 29,
   "id": "YES_7oMzqAgn",
   "metadata": {
    "colab": {
     "base_uri": "https://localhost:8080/",
     "height": 448
    },
    "id": "YES_7oMzqAgn",
    "outputId": "eaa91d82-39de-44e9-dc4d-fabe5af184c3"
   },
   "outputs": [
    {
     "data": {
      "image/png": "[encoded data removed]",
      "text/plain": [
       "<Figure size 432x288 with 1 Axes>"
      ]
     },
     "metadata": {
      "needs_background": "light"
     },
     "output_type": "display_data"
    }
   ],
   "source": [
    "# Compare the prdicted values with the actual sales in a plot\n",
    "plt.plot(y_pred, label= 'Predicted')\n",
    "plt.plot(np.array(df_test_y['revenue']), label= 'Actual')\n",
    "plt.legend()\n",
    "plt.show()"
   ]
  },
  {
   "cell_type": "markdown",
   "id": "PjOcQ_7lojVS",
   "metadata": {
    "id": "PjOcQ_7lojVS"
   },
   "source": [
    "The predicted result has an $R^2$ score of 0.41.\n",
    "\n",
    "The model has captured the overall trend, however, it has to be improved to get more accurate results."
   ]
  },
  {
   "cell_type": "markdown",
   "id": "Li8y0SmMmteA",
   "metadata": {
    "id": "Li8y0SmMmteA"
   },
   "source": [
    "# 5. Conclusion"
   ]
  },
  {
   "cell_type": "code",
   "execution_count": 30,
   "id": "GZNbGuU-myFi",
   "metadata": {
    "colab": {
     "base_uri": "https://localhost:8080/",
     "height": 521
    },
    "id": "GZNbGuU-myFi",
    "outputId": "4bdfb081-40fe-4ad1-bf45-cbd8a3211e7f"
   },
   "outputs": [
    {
     "data": {
      "image/png": "[encoded data removed]",
      "text/plain": [
       "<Figure size 432x432 with 1 Axes>"
      ]
     },
     "metadata": {},
     "output_type": "display_data"
    }
   ],
   "source": [
    "# Print the training results and parameters\n",
    "coefficients=ridge_model.coef_[0]\n",
    "labels = df_train_x.columns\n",
    "sizes = coefficients # Sizes or proportions for each category\n",
    "plt.figure(figsize=(6, 6))  # Optional: Set the figure size\n",
    "plt.pie(sizes, labels=labels, autopct='%1.1f%%', startangle=90)\n",
    "plt.title('Fund allocation to maximize sales')\n",
    "# Show the chart\n",
    "plt.axis('equal')  # Equal aspect ratio ensures that pie is drawn as a circle.\n",
    "plt.show()"
   ]
  },
  {
   "cell_type": "markdown",
   "id": "vvqtbBLUvy7Q",
   "metadata": {
    "id": "vvqtbBLUvy7Q"
   },
   "source": [
    "The company should allocate their advertising funds in the above mentioned ratio to maximize their future sales.\n"
   ]
  },
  {
   "cell_type": "markdown",
   "id": "Wthv_7_6u943",
   "metadata": {
    "id": "Wthv_7_6u943"
   },
   "source": [
    "# **Recommended Next Steps**\n",
    "\n",
    "Here are a few next steps recommendation to improve the accuracy of the model:\n",
    "\n",
    "1. **Incorporate Intermediate Metrics**: Include additional intermediate metrics such as impressions and clicks in the analysis. This will provide a more comprehensive view of the advertising campaign's effectiveness. Understanding not only sales but also the reach and response of the advertisements can lead to more informed decision-making.\n",
    "\n",
    "2. **Account for Non-Linearity**: Explore the impact of factors like seasonality, carryover effect, and saturation effects in the model as the relationship between ad spends and sales may not always be linear.\n",
    "\n",
    "3. **Experiment with Regression Techniques**: Diversify the approach by trying different regression techniques and incorporating hyperparameter tuning. This experimentation can help to identify the most suitable modeling method for this specific data and objectives, potentially leading to improved predictive performance."
   ]
  }
 ],
 "metadata": {
  "colab": {
   "collapsed_sections": [
    "HHf92ilbGJQN",
    "MlYaVcTlI9Hr"
   ],
   "provenance": []
  },
  "kernelspec": {
   "display_name": "Python 3 (ipykernel)",
   "language": "python",
   "name": "python3"
  },
  "language_info": {
   "codemirror_mode": {
    "name": "ipython",
    "version": 3
   },
   "file_extension": ".py",
   "mimetype": "text/x-python",
   "name": "python",
   "nbconvert_exporter": "python",
   "pygments_lexer": "ipython3",
   "version": "3.7.0"
  }
 },
 "nbformat": 4,
 "nbformat_minor": 5
}
